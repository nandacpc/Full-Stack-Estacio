{
  "nbformat": 4,
  "nbformat_minor": 0,
  "metadata": {
    "colab": {
      "provenance": [],
      "collapsed_sections": [
        "tRsfnvzCIdWt"
      ],
      "authorship_tag": "ABX9TyMycCcy9PsdRvjh/VIh7Vj+",
      "include_colab_link": true
    },
    "kernelspec": {
      "name": "python3",
      "display_name": "Python 3"
    },
    "language_info": {
      "name": "python"
    }
  },
  "cells": [
    {
      "cell_type": "markdown",
      "metadata": {
        "id": "view-in-github",
        "colab_type": "text"
      },
      "source": [
        "<a href=\"https://colab.research.google.com/github/nandacpc/Full-Stack-Estacio/blob/main/MissaoNv5_Fernanda_Canto.ipynb\" target=\"_parent\"><img src=\"https://colab.research.google.com/assets/colab-badge.svg\" alt=\"Open In Colab\"/></a>"
      ]
    },
    {
      "cell_type": "markdown",
      "source": [
        "<img src='https://logodownload.org/wp-content/uploads/2014/12/estacio-logo.png' width=\"300\">\n",
        "\n",
        "## **Campus Ipanema - Graduação Full Stack**\n",
        "### Colocando tudo em ordem e guardando - Turma 22.3 - 1º semestre\n",
        "### Aluna: Fernanda Canto P. da Costa"
      ],
      "metadata": {
        "id": "3Sr985AroMaD"
      }
    },
    {
      "cell_type": "markdown",
      "source": [
        "## **Missão Prática Nivel 5**"
      ],
      "metadata": {
        "id": "-i8eIsLBj5m9"
      }
    },
    {
      "cell_type": "markdown",
      "source": [
        "### Objetivo\n",
        "Gerar, gravar e recuperar dados de arquivos textos. \n",
        "Manipular os dados para visualizá-los em um histograma e uma nuvem de palavras.\n",
        "Implementar um programa para gerar dados com nomes de pessoas e respectivas pontuações, gravas em um arquivo, recuperar os dados do arquivo, visualizar os dados das pontuações das pessoas em um histograma e em uma nuvem de palavras.\n"
      ],
      "metadata": {
        "id": "eB7msgD6kv6d"
      }
    },
    {
      "cell_type": "markdown",
      "source": [
        "# **Instalação dos Módulos**"
      ],
      "metadata": {
        "id": "tRsfnvzCIdWt"
      }
    },
    {
      "cell_type": "code",
      "execution_count": 4,
      "metadata": {
        "colab": {
          "base_uri": "https://localhost:8080/"
        },
        "id": "LClEeAHDIX6L",
        "outputId": "e632edda-7e7a-45ce-9751-7f75c136461d"
      },
      "outputs": [
        {
          "output_type": "stream",
          "name": "stdout",
          "text": [
            "Looking in indexes: https://pypi.org/simple, https://us-python.pkg.dev/colab-wheels/public/simple/\n",
            "Requirement already satisfied: num2words in /usr/local/lib/python3.7/dist-packages (0.5.12)\n",
            "Requirement already satisfied: docopt>=0.6.2 in /usr/local/lib/python3.7/dist-packages (from num2words) (0.6.2)\n"
          ]
        }
      ],
      "source": [
        "!pip install num2words"
      ]
    },
    {
      "cell_type": "code",
      "source": [
        "!pip install faker"
      ],
      "metadata": {
        "colab": {
          "base_uri": "https://localhost:8080/"
        },
        "id": "lDvUCWmLInYJ",
        "outputId": "bbf7aadb-7940-4e66-9af2-5fdc4cebb928"
      },
      "execution_count": 5,
      "outputs": [
        {
          "output_type": "stream",
          "name": "stdout",
          "text": [
            "Looking in indexes: https://pypi.org/simple, https://us-python.pkg.dev/colab-wheels/public/simple/\n",
            "Requirement already satisfied: faker in /usr/local/lib/python3.7/dist-packages (15.3.2)\n",
            "Requirement already satisfied: typing-extensions>=3.10.0.1 in /usr/local/lib/python3.7/dist-packages (from faker) (4.1.1)\n",
            "Requirement already satisfied: python-dateutil>=2.4 in /usr/local/lib/python3.7/dist-packages (from faker) (2.8.2)\n",
            "Requirement already satisfied: six>=1.5 in /usr/local/lib/python3.7/dist-packages (from python-dateutil>=2.4->faker) (1.15.0)\n"
          ]
        }
      ]
    },
    {
      "cell_type": "code",
      "source": [
        "!pip install wordcloud"
      ],
      "metadata": {
        "colab": {
          "base_uri": "https://localhost:8080/"
        },
        "id": "Fza99j-3IpPT",
        "outputId": "8c084157-445f-4b9d-f016-ebc8a2275654"
      },
      "execution_count": 6,
      "outputs": [
        {
          "output_type": "stream",
          "name": "stdout",
          "text": [
            "Looking in indexes: https://pypi.org/simple, https://us-python.pkg.dev/colab-wheels/public/simple/\n",
            "Requirement already satisfied: wordcloud in /usr/local/lib/python3.7/dist-packages (1.8.2.2)\n",
            "Requirement already satisfied: numpy>=1.6.1 in /usr/local/lib/python3.7/dist-packages (from wordcloud) (1.21.6)\n",
            "Requirement already satisfied: pillow in /usr/local/lib/python3.7/dist-packages (from wordcloud) (7.1.2)\n",
            "Requirement already satisfied: matplotlib in /usr/local/lib/python3.7/dist-packages (from wordcloud) (3.2.2)\n",
            "Requirement already satisfied: pyparsing!=2.0.4,!=2.1.2,!=2.1.6,>=2.0.1 in /usr/local/lib/python3.7/dist-packages (from matplotlib->wordcloud) (3.0.9)\n",
            "Requirement already satisfied: kiwisolver>=1.0.1 in /usr/local/lib/python3.7/dist-packages (from matplotlib->wordcloud) (1.4.4)\n",
            "Requirement already satisfied: python-dateutil>=2.1 in /usr/local/lib/python3.7/dist-packages (from matplotlib->wordcloud) (2.8.2)\n",
            "Requirement already satisfied: cycler>=0.10 in /usr/local/lib/python3.7/dist-packages (from matplotlib->wordcloud) (0.11.0)\n",
            "Requirement already satisfied: typing-extensions in /usr/local/lib/python3.7/dist-packages (from kiwisolver>=1.0.1->matplotlib->wordcloud) (4.1.1)\n",
            "Requirement already satisfied: six>=1.5 in /usr/local/lib/python3.7/dist-packages (from python-dateutil>=2.1->matplotlib->wordcloud) (1.15.0)\n"
          ]
        }
      ]
    },
    {
      "cell_type": "markdown",
      "source": [
        "# **Importanto as bibliotecas**"
      ],
      "metadata": {
        "id": "YT2gJVL8Q21U"
      }
    },
    {
      "cell_type": "code",
      "source": [
        "import matplotlib.pyplot as plt\n",
        "import numpy as np\n",
        "import pandas as pd\n",
        "import random\n",
        "\n",
        "from num2words import num2words\n",
        "from wordcloud import WordCloud\n",
        "from faker import Faker"
      ],
      "metadata": {
        "id": "ulfrcDfmRI8X"
      },
      "execution_count": 7,
      "outputs": []
    },
    {
      "cell_type": "markdown",
      "source": [
        "# **Variáveis globais**"
      ],
      "metadata": {
        "id": "VCf6wQ4-RNq3"
      }
    },
    {
      "cell_type": "code",
      "source": [
        "fake = Faker('pt_br')\n",
        "n = int(input(f'Digite o número de pessoas: '))\n",
        "lista_nomes = []\n",
        "lista_notas = []"
      ],
      "metadata": {
        "id": "62A7eWR0RRVv",
        "colab": {
          "base_uri": "https://localhost:8080/"
        },
        "outputId": "6c973a3d-8bbf-4f66-814e-49a2d53b9442"
      },
      "execution_count": 144,
      "outputs": [
        {
          "name": "stdout",
          "output_type": "stream",
          "text": [
            "Digite o número de pessoas: 10\n"
          ]
        }
      ]
    },
    {
      "cell_type": "markdown",
      "source": [
        "# **Criando e gravando no arquivo**"
      ],
      "metadata": {
        "id": "tZ1RM69QI1MP"
      }
    },
    {
      "cell_type": "code",
      "source": [
        "with open(\"arquivo.txt\", \"w\") as arquivo:\n",
        "  for i in range(n):\n",
        "    nome = fake.first_name() + \" \" + fake.last_name() #não usei apenas o name(), pois ele gera pronomes de tratamento\n",
        "    ponto = str(random.randint(0,10))\n",
        "    resultado = nome + \" \" + ponto + \"\\n\"\n",
        "    arquivo.write(resultado)"
      ],
      "metadata": {
        "id": "wUKytlsjOrDw"
      },
      "execution_count": 145,
      "outputs": []
    },
    {
      "cell_type": "markdown",
      "source": [
        "# **Lendo o arquivo e recuperando dados**"
      ],
      "metadata": {
        "id": "qNBqEcGzX26F"
      }
    },
    {
      "cell_type": "code",
      "source": [
        "with open(\"arquivo.txt\", \"r\") as recuperar:\n",
        "  for i in range(n):\n",
        "    ler_conteudo = recuperar.readline() #lendo cada linha do arquivo\n",
        "    separar_conteudo = ler_conteudo.split(' ') #separando nomes de notas\n",
        "    ler_notas = int(separar_conteudo[-1]) #pegando a pontuação e transformando em número inteiro, ao invés de string\n",
        "    lista_notas.append(ler_notas) #adicionando as pontuações numa lista\n",
        "    lista_nomes_ext = num2words(ler_notas, lang = 'pt_br') #colocando os números por extenso\n",
        "    lista_nomes.append(lista_nomes_ext) #adicionando os pontos por extenso numa lista\n",
        "    lista_nomes_str = (\" \").join(lista_nomes) #colocando todos os pontos numa só string\n"
      ],
      "metadata": {
        "id": "z7D5tNihIzoe"
      },
      "execution_count": 146,
      "outputs": []
    },
    {
      "cell_type": "markdown",
      "source": [
        "# **Gerando o histograma**"
      ],
      "metadata": {
        "id": "D-j0DDQ8Yqj2"
      }
    },
    {
      "cell_type": "code",
      "source": [
        "plt.title('Histograma das Pontuações')\n",
        "plt.xlabel('Pontuações')\n",
        "plt.ylabel('Probabilidade')\n",
        "plt.xlim(-0.5,10.5) #0.5 a mais e a menos, pro gráfico ficar bonito\n",
        "plt.hist(lista_notas, bins=np.arange(-0.5,11), density=True, align=\"mid\", rwidth=0.9) #criando a probabilidade no gráfico e mais coisinhas pra deixar ele bonito\n",
        "plt.show()"
      ],
      "metadata": {
        "colab": {
          "base_uri": "https://localhost:8080/",
          "height": 295
        },
        "id": "EtUp9TGqXqIY",
        "outputId": "ef4b9b3e-d0ef-48cf-dc37-211339da5cf6"
      },
      "execution_count": 147,
      "outputs": [
        {
          "output_type": "display_data",
          "data": {
            "text/plain": [
              "<Figure size 432x288 with 1 Axes>"
            ],
            "image/png": "[encoded data removed]"
          },
          "metadata": {
            "needs_background": "light"
          }
        }
      ]
    },
    {
      "cell_type": "markdown",
      "source": [
        "# **Gerando a nuvem de palavras**"
      ],
      "metadata": {
        "id": "bO2z97YuXkwP"
      }
    },
    {
      "cell_type": "code",
      "source": [
        "#gerando a nuvem de palavras usando a string com a pontuação por extenso\n",
        "wordcloud = WordCloud().generate(lista_nomes_str) #jogando a string de numeros extensos na nuvem de palavras\n",
        "plt.imshow(wordcloud, interpolation='bilinear')\n",
        "plt.axis('off')\n",
        "plt.show()\n",
        "wordcloud.to_file(\"NuvemDePalavras.png\")\n",
        "recuperar.close()"
      ],
      "metadata": {
        "colab": {
          "base_uri": "https://localhost:8080/",
          "height": 198
        },
        "id": "Yjhsb6MqYxvL",
        "outputId": "ae2f3bab-d692-4e3e-b589-aad28724690c"
      },
      "execution_count": 148,
      "outputs": [
        {
          "output_type": "display_data",
          "data": {
            "text/plain": [
              "<Figure size 432x288 with 1 Axes>"
            ],
            "image/png": "[encoded data removed]"
          },
          "metadata": {
            "needs_background": "light"
          }
        }
      ]
    },
    {
      "cell_type": "markdown",
      "source": [
        "# **Análise e Conclusão**\n",
        "\n",
        "\n",
        "\n"
      ],
      "metadata": {
        "id": "FTdcC0zMn0Za"
      }
    },
    {
      "cell_type": "markdown",
      "source": [
        "Qual a importância de manipular arquivos de texto?<br>\n",
        "R: Manipular arquivos de texto nos permite pegar os dados, ou separá-los, para que possam ser utilizados em outras fontes, como gráficos, planilhas, etc."
      ],
      "metadata": {
        "id": "tuUhR56Qn5T5"
      }
    },
    {
      "cell_type": "markdown",
      "source": [
        "Qual a importância de visualizar os dados em um histograma?<br>\n",
        "R: O histograma nos permite analisar os dados estatísticamente. Através dele fica mais fácil ler e identificar probabilidades, principalmente com quantidades muito grandes de dados."
      ],
      "metadata": {
        "id": "nk-U6hoEn--d"
      }
    },
    {
      "cell_type": "markdown",
      "source": [
        "O que significa a visualização por nuvem de palavras?<br>\n",
        "R: A nuvem de palavras destaca a palavra mais usada, ou de maior importância. Ela nos permite analisar textos, visualizar e comparar os temas que estão em evidência."
      ],
      "metadata": {
        "id": "6zT9f1zjoEIw"
      }
    }
  ]
}